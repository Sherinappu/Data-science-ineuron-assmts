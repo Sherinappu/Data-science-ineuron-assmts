{
 "cells": [
  {
   "cell_type": "code",
   "execution_count": 8,
   "id": "49015c46",
   "metadata": {},
   "outputs": [
    {
     "name": "stdout",
     "output_type": "stream",
     "text": [
      "first name is - sherin\n",
      " last name is -  joseph\n",
      "sherin joseph\n",
      "hpesoj nirehs\n"
     ]
    }
   ],
   "source": [
    "a=input(\"first name is - \")\n",
    "b=input(\" last name is - \")\n",
    "c=a+b\n",
    "print(c)\n",
    "h=c[::-1]\n",
    "print(h)"
   ]
  },
  {
   "cell_type": "code",
   "execution_count": null,
   "id": "3c593ddd",
   "metadata": {},
   "outputs": [],
   "source": [
    "\n"
   ]
  },
  {
   "cell_type": "code",
   "execution_count": null,
   "id": "86363bd2",
   "metadata": {},
   "outputs": [],
   "source": []
  }
 ],
 "metadata": {
  "kernelspec": {
   "display_name": "Python 3",
   "language": "python",
   "name": "python3"
  },
  "language_info": {
   "codemirror_mode": {
    "name": "ipython",
    "version": 3
   },
   "file_extension": ".py",
   "mimetype": "text/x-python",
   "name": "python",
   "nbconvert_exporter": "python",
   "pygments_lexer": "ipython3",
   "version": "3.8.8"
  }
 },
 "nbformat": 4,
 "nbformat_minor": 5
}
